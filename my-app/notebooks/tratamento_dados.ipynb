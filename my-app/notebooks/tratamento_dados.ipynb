{
 "cells": [
  {
   "cell_type": "code",
   "execution_count": 53,
   "metadata": {},
   "outputs": [],
   "source": [
    "import pandas as pd\n",
    "\n",
    "# Carregar o arquivo CSV\n",
    "df_enem = pd.read_csv(\"../data/raw/MICRODADOS_ENEM_2023.csv\", sep=\";\",encoding='ANSI')\n",
    "\n",
    "# Salvar o DataFrame no formato Parquet\n",
    "df_enem.to_parquet(\"../data/treated/df_enem.parquet\")\n"
   ]
  },
  {
   "cell_type": "code",
   "execution_count": 54,
   "metadata": {},
   "outputs": [
    {
     "data": {
      "text/plain": [
       "(3933955, 76)"
      ]
     },
     "execution_count": 54,
     "metadata": {},
     "output_type": "execute_result"
    }
   ],
   "source": [
    "#Tamanho da base\n",
    "df_enem.shape"
   ]
  },
  {
   "cell_type": "code",
   "execution_count": null,
   "metadata": {},
   "outputs": [],
   "source": [
    "\n"
   ]
  },
  {
   "cell_type": "code",
   "execution_count": 55,
   "metadata": {},
   "outputs": [
    {
     "data": {
      "text/html": [
       "<div>\n",
       "<style scoped>\n",
       "    .dataframe tbody tr th:only-of-type {\n",
       "        vertical-align: middle;\n",
       "    }\n",
       "\n",
       "    .dataframe tbody tr th {\n",
       "        vertical-align: top;\n",
       "    }\n",
       "\n",
       "    .dataframe thead th {\n",
       "        text-align: right;\n",
       "    }\n",
       "</style>\n",
       "<table border=\"1\" class=\"dataframe\">\n",
       "  <thead>\n",
       "    <tr style=\"text-align: right;\">\n",
       "      <th></th>\n",
       "      <th>NU_INSCRICAO</th>\n",
       "      <th>NU_ANO</th>\n",
       "      <th>TP_FAIXA_ETARIA</th>\n",
       "      <th>TP_SEXO</th>\n",
       "      <th>TP_ESTADO_CIVIL</th>\n",
       "      <th>TP_COR_RACA</th>\n",
       "      <th>TP_NACIONALIDADE</th>\n",
       "      <th>TP_ST_CONCLUSAO</th>\n",
       "      <th>TP_ANO_CONCLUIU</th>\n",
       "      <th>TP_ESCOLA</th>\n",
       "      <th>...</th>\n",
       "      <th>Q016</th>\n",
       "      <th>Q017</th>\n",
       "      <th>Q018</th>\n",
       "      <th>Q019</th>\n",
       "      <th>Q020</th>\n",
       "      <th>Q021</th>\n",
       "      <th>Q022</th>\n",
       "      <th>Q023</th>\n",
       "      <th>Q024</th>\n",
       "      <th>Q025</th>\n",
       "    </tr>\n",
       "  </thead>\n",
       "  <tbody>\n",
       "    <tr>\n",
       "      <th>0</th>\n",
       "      <td>210059085136</td>\n",
       "      <td>2023</td>\n",
       "      <td>14</td>\n",
       "      <td>M</td>\n",
       "      <td>2</td>\n",
       "      <td>1</td>\n",
       "      <td>1</td>\n",
       "      <td>1</td>\n",
       "      <td>17</td>\n",
       "      <td>1</td>\n",
       "      <td>...</td>\n",
       "      <td>C</td>\n",
       "      <td>C</td>\n",
       "      <td>B</td>\n",
       "      <td>B</td>\n",
       "      <td>A</td>\n",
       "      <td>B</td>\n",
       "      <td>B</td>\n",
       "      <td>A</td>\n",
       "      <td>A</td>\n",
       "      <td>B</td>\n",
       "    </tr>\n",
       "    <tr>\n",
       "      <th>1</th>\n",
       "      <td>210059527735</td>\n",
       "      <td>2023</td>\n",
       "      <td>12</td>\n",
       "      <td>M</td>\n",
       "      <td>2</td>\n",
       "      <td>1</td>\n",
       "      <td>0</td>\n",
       "      <td>1</td>\n",
       "      <td>16</td>\n",
       "      <td>1</td>\n",
       "      <td>...</td>\n",
       "      <td>B</td>\n",
       "      <td>A</td>\n",
       "      <td>B</td>\n",
       "      <td>B</td>\n",
       "      <td>A</td>\n",
       "      <td>A</td>\n",
       "      <td>C</td>\n",
       "      <td>A</td>\n",
       "      <td>D</td>\n",
       "      <td>B</td>\n",
       "    </tr>\n",
       "    <tr>\n",
       "      <th>2</th>\n",
       "      <td>210061103945</td>\n",
       "      <td>2023</td>\n",
       "      <td>6</td>\n",
       "      <td>F</td>\n",
       "      <td>1</td>\n",
       "      <td>1</td>\n",
       "      <td>1</td>\n",
       "      <td>1</td>\n",
       "      <td>0</td>\n",
       "      <td>1</td>\n",
       "      <td>...</td>\n",
       "      <td>B</td>\n",
       "      <td>A</td>\n",
       "      <td>A</td>\n",
       "      <td>B</td>\n",
       "      <td>A</td>\n",
       "      <td>A</td>\n",
       "      <td>A</td>\n",
       "      <td>A</td>\n",
       "      <td>A</td>\n",
       "      <td>B</td>\n",
       "    </tr>\n",
       "    <tr>\n",
       "      <th>3</th>\n",
       "      <td>210060214087</td>\n",
       "      <td>2023</td>\n",
       "      <td>2</td>\n",
       "      <td>F</td>\n",
       "      <td>1</td>\n",
       "      <td>3</td>\n",
       "      <td>1</td>\n",
       "      <td>2</td>\n",
       "      <td>0</td>\n",
       "      <td>2</td>\n",
       "      <td>...</td>\n",
       "      <td>A</td>\n",
       "      <td>A</td>\n",
       "      <td>A</td>\n",
       "      <td>B</td>\n",
       "      <td>A</td>\n",
       "      <td>A</td>\n",
       "      <td>D</td>\n",
       "      <td>A</td>\n",
       "      <td>A</td>\n",
       "      <td>B</td>\n",
       "    </tr>\n",
       "    <tr>\n",
       "      <th>4</th>\n",
       "      <td>210059980948</td>\n",
       "      <td>2023</td>\n",
       "      <td>3</td>\n",
       "      <td>F</td>\n",
       "      <td>1</td>\n",
       "      <td>3</td>\n",
       "      <td>1</td>\n",
       "      <td>2</td>\n",
       "      <td>0</td>\n",
       "      <td>2</td>\n",
       "      <td>...</td>\n",
       "      <td>A</td>\n",
       "      <td>A</td>\n",
       "      <td>A</td>\n",
       "      <td>B</td>\n",
       "      <td>A</td>\n",
       "      <td>A</td>\n",
       "      <td>B</td>\n",
       "      <td>A</td>\n",
       "      <td>A</td>\n",
       "      <td>A</td>\n",
       "    </tr>\n",
       "  </tbody>\n",
       "</table>\n",
       "<p>5 rows × 76 columns</p>\n",
       "</div>"
      ],
      "text/plain": [
       "   NU_INSCRICAO  NU_ANO  TP_FAIXA_ETARIA TP_SEXO  TP_ESTADO_CIVIL  \\\n",
       "0  210059085136    2023               14       M                2   \n",
       "1  210059527735    2023               12       M                2   \n",
       "2  210061103945    2023                6       F                1   \n",
       "3  210060214087    2023                2       F                1   \n",
       "4  210059980948    2023                3       F                1   \n",
       "\n",
       "   TP_COR_RACA  TP_NACIONALIDADE  TP_ST_CONCLUSAO  TP_ANO_CONCLUIU  TP_ESCOLA  \\\n",
       "0            1                 1                1               17          1   \n",
       "1            1                 0                1               16          1   \n",
       "2            1                 1                1                0          1   \n",
       "3            3                 1                2                0          2   \n",
       "4            3                 1                2                0          2   \n",
       "\n",
       "   ...  Q016  Q017  Q018 Q019  Q020 Q021  Q022  Q023  Q024  Q025  \n",
       "0  ...     C     C     B    B     A    B     B     A     A     B  \n",
       "1  ...     B     A     B    B     A    A     C     A     D     B  \n",
       "2  ...     B     A     A    B     A    A     A     A     A     B  \n",
       "3  ...     A     A     A    B     A    A     D     A     A     B  \n",
       "4  ...     A     A     A    B     A    A     B     A     A     A  \n",
       "\n",
       "[5 rows x 76 columns]"
      ]
     },
     "execution_count": 55,
     "metadata": {},
     "output_type": "execute_result"
    }
   ],
   "source": [
    "#Mostrando primeiras linhas\n",
    "df_enem.head()"
   ]
  },
  {
   "cell_type": "markdown",
   "metadata": {},
   "source": [
    "Retirando os alunos que faltaram a prova e aguardando em outro objeto"
   ]
  },
  {
   "cell_type": "code",
   "execution_count": 72,
   "metadata": {},
   "outputs": [],
   "source": [
    "filter_al_presence = (df_enem['TP_PRESENCA_CN']== 1) & (df_enem['TP_PRESENCA_CH'] == 1) & (df_enem['TP_PRESENCA_LC'] == 1) & (df_enem['TP_PRESENCA_MT'] == 1)\n",
    "\n",
    "df_enem_al_presence_full = df_enem[(filter_al_presence)]"
   ]
  },
  {
   "cell_type": "markdown",
   "metadata": {},
   "source": [
    "Tamanho da base após retirada de faltantes"
   ]
  },
  {
   "cell_type": "code",
   "execution_count": 57,
   "metadata": {},
   "outputs": [
    {
     "data": {
      "text/plain": [
       "(2678264, 76)"
      ]
     },
     "execution_count": 57,
     "metadata": {},
     "output_type": "execute_result"
    }
   ],
   "source": [
    "df_enem_al_presence_full.shape"
   ]
  },
  {
   "cell_type": "markdown",
   "metadata": {},
   "source": [
    "Retirando colunas desnecessárias"
   ]
  },
  {
   "cell_type": "code",
   "execution_count": 73,
   "metadata": {},
   "outputs": [
    {
     "name": "stderr",
     "output_type": "stream",
     "text": [
      "C:\\Users\\Marcela Beatriz\\AppData\\Local\\Temp\\ipykernel_18324\\545237176.py:24: SettingWithCopyWarning: \n",
      "A value is trying to be set on a copy of a slice from a DataFrame\n",
      "\n",
      "See the caveats in the documentation: https://pandas.pydata.org/pandas-docs/stable/user_guide/indexing.html#returning-a-view-versus-a-copy\n",
      "  df_enem_al_presence_full.drop(columns=colums_drop, inplace=True)\n"
     ]
    }
   ],
   "source": [
    "colums_drop = ['TP_PRESENCA_CN',\n",
    "'TP_PRESENCA_CH',\n",
    "'TP_PRESENCA_LC',\n",
    "'TP_PRESENCA_MT',\n",
    "'CO_PROVA_CH',\n",
    "'CO_PROVA_LC',\n",
    "'CO_PROVA_MT',\n",
    "'TX_RESPOSTAS_CN',\n",
    "'TX_RESPOSTAS_CH',\n",
    "'TX_RESPOSTAS_LC',\n",
    "'TX_RESPOSTAS_MT',\n",
    "'TX_GABARITO_CN',\n",
    "'TX_GABARITO_CH',\n",
    "'TX_GABARITO_LC',\n",
    "'TX_GABARITO_MT',\n",
    "'CO_MUNICIPIO_ESC',\n",
    "'CO_UF_ESC',\n",
    "'NU_ANO',\n",
    "'CO_MUNICIPIO_PROVA',\n",
    "'CO_UF_PROVA']\n",
    "\n",
    "#Removendo colunas\n",
    "\n",
    "df_enem_al_presence_full.drop(columns=colums_drop, inplace=True)\n",
    "df_enem_al_presence_full.to_parquet(\"../data/treated/df_enem_al_presence_full.parquet\")"
   ]
  },
  {
   "cell_type": "code",
   "execution_count": 74,
   "metadata": {},
   "outputs": [],
   "source": [
    "df_enem_al_presence_full.to_parquet(\"../data/treated/df_enem_al_presence_full.parquet\")"
   ]
  },
  {
   "cell_type": "markdown",
   "metadata": {},
   "source": [
    "Tipo de Nacionalidade"
   ]
  },
  {
   "cell_type": "code",
   "execution_count": 64,
   "metadata": {},
   "outputs": [
    {
     "data": {
      "text/plain": [
       "TP_NACIONALIDADE\n",
       "1    2618387\n",
       "2      47606\n",
       "4       6337\n",
       "3       4690\n",
       "0       1244\n",
       "Name: count, dtype: int64"
      ]
     },
     "execution_count": 64,
     "metadata": {},
     "output_type": "execute_result"
    }
   ],
   "source": [
    "# 1\tBrasileiro(a)\n",
    "# 2\tBrasileiro(a) Naturalizado(a)\n",
    "# 3\tEstrangeiro(a)\n",
    "# 4\tBrasileiro(a) Nato(a), nascido(a) no exterior\n",
    "\n",
    "\n",
    "df_enem_al_presence_full['TP_NACIONALIDADE'].value_counts()"
   ]
  },
  {
   "cell_type": "markdown",
   "metadata": {},
   "source": [
    "Qual é a distribuição por sexo?"
   ]
  },
  {
   "cell_type": "code",
   "execution_count": 68,
   "metadata": {},
   "outputs": [
    {
     "data": {
      "text/plain": [
       "TP_SEXO\n",
       "F    1644046\n",
       "M    1034218\n",
       "Name: count, dtype: int64"
      ]
     },
     "execution_count": 68,
     "metadata": {},
     "output_type": "execute_result"
    }
   ],
   "source": [
    "df_enem_al_presence_full['TP_SEXO'].value_counts()"
   ]
  },
  {
   "cell_type": "markdown",
   "metadata": {},
   "source": [
    "Região das escolas"
   ]
  },
  {
   "cell_type": "code",
   "execution_count": 59,
   "metadata": {},
   "outputs": [
    {
     "data": {
      "text/plain": [
       "TP_LOCALIZACAO_ESC\n",
       "1.0    697117\n",
       "2.0     24312\n",
       "Name: count, dtype: int64"
      ]
     },
     "execution_count": 59,
     "metadata": {},
     "output_type": "execute_result"
    }
   ],
   "source": [
    "# 1 = Urbana, 2 = Rural\n",
    "df_enem_al_presence_full['TP_LOCALIZACAO_ESC'].value_counts()"
   ]
  },
  {
   "cell_type": "markdown",
   "metadata": {},
   "source": [
    "Tipo da escola"
   ]
  },
  {
   "cell_type": "code",
   "execution_count": 60,
   "metadata": {},
   "outputs": [
    {
     "data": {
      "text/plain": [
       "TP_DEPENDENCIA_ADM_ESC\n",
       "1.0     43946\n",
       "2.0    456911\n",
       "3.0      5832\n",
       "4.0    214740\n",
       "Name: count, dtype: int64"
      ]
     },
     "execution_count": 60,
     "metadata": {},
     "output_type": "execute_result"
    }
   ],
   "source": [
    "# 1\tFederal\n",
    "# 2\tEstadual\n",
    "# 3\tMunicipal\n",
    "# 4\tPrivada\n",
    "\n",
    "df_enem_al_presence_full['TP_DEPENDENCIA_ADM_ESC'].value_counts().sort_index()"
   ]
  },
  {
   "cell_type": "markdown",
   "metadata": {},
   "source": [
    "Contagem de pessoas pro ano de conclusão"
   ]
  },
  {
   "cell_type": "code",
   "execution_count": 62,
   "metadata": {},
   "outputs": [
    {
     "data": {
      "text/plain": [
       "TP_ANO_CONCLUIU\n",
       "0     1670514\n",
       "1      295560\n",
       "2      173707\n",
       "3       92873\n",
       "17      83542\n",
       "4       79430\n",
       "5       57522\n",
       "6       45525\n",
       "7       33974\n",
       "8       27645\n",
       "9       22841\n",
       "10      19441\n",
       "11      17155\n",
       "12      13869\n",
       "13      13074\n",
       "14      11580\n",
       "15      10167\n",
       "16       9845\n",
       "Name: count, dtype: int64"
      ]
     },
     "execution_count": 62,
     "metadata": {},
     "output_type": "execute_result"
    }
   ],
   "source": [
    "# 0\tNão informado\n",
    "# 1\t2022\n",
    "# 2\t2021\n",
    "# 3\t2020\n",
    "# 4\t2019\n",
    "# 5\t2018\n",
    "# 6\t2017\n",
    "# 7\t2016\n",
    "# 8\t2015\n",
    "# 9\t2014\n",
    "# 10\t2013\n",
    "# 11\t2012\n",
    "# 12\t2011\n",
    "# 13\t2010\n",
    "# 14\t2009\n",
    "# 15\t2008\n",
    "# 16\t2007\n",
    "# 17\tAntes de 2007\n",
    "\n",
    "df_enem_al_presence_full['TP_ANO_CONCLUIU'].value_counts()"
   ]
  },
  {
   "cell_type": "markdown",
   "metadata": {},
   "source": [
    "Quantos treineiros fizeram a prova de 2023?"
   ]
  },
  {
   "cell_type": "code",
   "execution_count": 65,
   "metadata": {},
   "outputs": [
    {
     "data": {
      "text/plain": [
       "IN_TREINEIRO\n",
       "0    2166843\n",
       "1     511421\n",
       "Name: count, dtype: int64"
      ]
     },
     "execution_count": 65,
     "metadata": {},
     "output_type": "execute_result"
    }
   ],
   "source": [
    "df_enem_al_presence_full['IN_TREINEIRO'].value_counts()"
   ]
  },
  {
   "cell_type": "markdown",
   "metadata": {},
   "source": [
    "Quantas provas foram aplicadas pro município?"
   ]
  },
  {
   "cell_type": "code",
   "execution_count": 66,
   "metadata": {},
   "outputs": [
    {
     "data": {
      "text/plain": [
       "SG_UF_PROVA\n",
       "SP    409480\n",
       "MG    250015\n",
       "BA    220257\n",
       "RJ    184502\n",
       "CE    173700\n",
       "PA    153293\n",
       "PE    152574\n",
       "PR    114776\n",
       "MA    112482\n",
       "RS    110735\n",
       "GO     96351\n",
       "PB     87603\n",
       "RN     72805\n",
       "PI     70761\n",
       "SC     62700\n",
       "AL     54953\n",
       "DF     50267\n",
       "ES     49235\n",
       "AM     47909\n",
       "SE     47189\n",
       "MT     41481\n",
       "MS     31239\n",
       "RO     22999\n",
       "TO     21612\n",
       "AP     18177\n",
       "AC     15099\n",
       "RR      6070\n",
       "Name: count, dtype: int64"
      ]
     },
     "execution_count": 66,
     "metadata": {},
     "output_type": "execute_result"
    }
   ],
   "source": [
    "df_enem_al_presence_full['SG_UF_PROVA'].value_counts()"
   ]
  },
  {
   "cell_type": "markdown",
   "metadata": {},
   "source": [
    "Quantos alunos por UF?"
   ]
  },
  {
   "cell_type": "code",
   "execution_count": 67,
   "metadata": {},
   "outputs": [
    {
     "data": {
      "text/plain": [
       "SG_UF_ESC\n",
       "SP    141339\n",
       "CE     74319\n",
       "MG     52837\n",
       "RJ     49406\n",
       "PR     39952\n",
       "BA     34957\n",
       "PE     34652\n",
       "RS     32073\n",
       "GO     28296\n",
       "PA     27971\n",
       "SC     23658\n",
       "MA     23505\n",
       "PB     18025\n",
       "DF     16819\n",
       "ES     16084\n",
       "AM     14634\n",
       "PI     14565\n",
       "RN     14420\n",
       "AL     13952\n",
       "MT     12279\n",
       "MS      9234\n",
       "SE      8455\n",
       "RO      7041\n",
       "TO      4987\n",
       "AP      3462\n",
       "AC      2920\n",
       "RR      1587\n",
       "Name: count, dtype: int64"
      ]
     },
     "execution_count": 67,
     "metadata": {},
     "output_type": "execute_result"
    }
   ],
   "source": [
    "df_enem_al_presence_full['SG_UF_ESC'].value_counts()"
   ]
  },
  {
   "cell_type": "markdown",
   "metadata": {},
   "source": [
    "Quais foram os tipos de provas aplicadas?"
   ]
  },
  {
   "cell_type": "code",
   "execution_count": 70,
   "metadata": {},
   "outputs": [
    {
     "data": {
      "text/plain": [
       "CO_PROVA_CN\n",
       "1223.0    671183\n",
       "1224.0    665869\n",
       "1222.0    665399\n",
       "1221.0    664706\n",
       "1225.0      3306\n",
       "1303.0      1304\n",
       "1304.0      1295\n",
       "1302.0      1290\n",
       "1301.0      1289\n",
       "1229.0      1199\n",
       "1228.0       663\n",
       "1226.0       641\n",
       "1227.0       120\n",
       "Name: count, dtype: int64"
      ]
     },
     "execution_count": 70,
     "metadata": {},
     "output_type": "execute_result"
    }
   ],
   "source": [
    "# 1221\tAzul\n",
    "# 1222\tAmarela\n",
    "# 1223\tRosa\n",
    "# 1224\tCinza\n",
    "# 1225\tRosa - Ampliada\n",
    "# 1226\tRosa - Superampliada\n",
    "# 1227\tLaranja - Braile\n",
    "# 1228\tLaranja - Adaptada Ledor\n",
    "# 1229\tVerde - Videoprova - Libras\n",
    "# 1301\tAzul (Reaplicação)\n",
    "# 1302\tAmarela (Reaplicação)\n",
    "# 1303\tCinza (Reaplicação)\n",
    "# 1304\tRosa (Reaplicação)\n",
    "\n",
    "df_enem_al_presence_full['CO_PROVA_CN'].value_counts()"
   ]
  },
  {
   "cell_type": "code",
   "execution_count": 92,
   "metadata": {},
   "outputs": [],
   "source": [
    "#Armazeando dados principais para exibir no Web APP\n",
    "\n",
    "metrics_of_inscription = []\n",
    "\n",
    "metrics_of_inscription.append({'Total de inscritos': df_enem.shape[0],\n",
    "                               'Total de inscritos presentes': df_enem_al_presence_full.shape[0],\n",
    "                               'Total de inscritos ausentes': df_enem.shape[0] - df_enem_al_presence_full.shape[0],\n",
    "                               'Total de treineiros inscritos': df_enem_al_presence_full['IN_TREINEIRO'].value_counts()[1],\n",
    "                               'Total de Mulheres inscritas': df_enem_al_presence_full['TP_SEXO'].value_counts()['F'],\n",
    "                                'Total de Homens inscritos': df_enem_al_presence_full['TP_SEXO'].value_counts()['M'],\n",
    "                                'Total de Provas Aplicadas por UF': df_enem_al_presence_full['SG_UF_PROVA'].value_counts().to_dict(),\n",
    "                               })"
   ]
  },
  {
   "cell_type": "code",
   "execution_count": 93,
   "metadata": {},
   "outputs": [],
   "source": [
    "df_metrics_inscription = pd.DataFrame(metrics_of_inscription)\n",
    "df_metrics_inscription.to_parquet(\"../data/analysis/df_metrics_inscription.parquet\")"
   ]
  },
  {
   "cell_type": "code",
   "execution_count": 120,
   "metadata": {},
   "outputs": [],
   "source": [
    "ufs_dict = df_metrics_inscription['Total de Provas Aplicadas por UF'][0]\n",
    "df_ufs = pd.DataFrame(list(ufs_dict.items()),columns = ['UF','Total de Provas Aplicadas'])"
   ]
  },
  {
   "cell_type": "code",
   "execution_count": 121,
   "metadata": {},
   "outputs": [
    {
     "data": {
      "text/plain": [
       "[('SP', 409480),\n",
       " ('MG', 250015),\n",
       " ('BA', 220257),\n",
       " ('RJ', 184502),\n",
       " ('CE', 173700),\n",
       " ('PA', 153293),\n",
       " ('PE', 152574),\n",
       " ('PR', 114776),\n",
       " ('MA', 112482),\n",
       " ('RS', 110735),\n",
       " ('GO', 96351),\n",
       " ('PB', 87603),\n",
       " ('RN', 72805),\n",
       " ('PI', 70761),\n",
       " ('SC', 62700),\n",
       " ('AL', 54953),\n",
       " ('DF', 50267),\n",
       " ('ES', 49235),\n",
       " ('AM', 47909),\n",
       " ('SE', 47189),\n",
       " ('MT', 41481),\n",
       " ('MS', 31239),\n",
       " ('RO', 22999),\n",
       " ('TO', 21612),\n",
       " ('AP', 18177),\n",
       " ('AC', 15099),\n",
       " ('RR', 6070)]"
      ]
     },
     "execution_count": 121,
     "metadata": {},
     "output_type": "execute_result"
    }
   ],
   "source": [
    "list(ufs_dict.items())"
   ]
  },
  {
   "cell_type": "code",
   "execution_count": 122,
   "metadata": {},
   "outputs": [
    {
     "data": {
      "text/html": [
       "<div>\n",
       "<style scoped>\n",
       "    .dataframe tbody tr th:only-of-type {\n",
       "        vertical-align: middle;\n",
       "    }\n",
       "\n",
       "    .dataframe tbody tr th {\n",
       "        vertical-align: top;\n",
       "    }\n",
       "\n",
       "    .dataframe thead th {\n",
       "        text-align: right;\n",
       "    }\n",
       "</style>\n",
       "<table border=\"1\" class=\"dataframe\">\n",
       "  <thead>\n",
       "    <tr style=\"text-align: right;\">\n",
       "      <th></th>\n",
       "      <th>UF</th>\n",
       "      <th>Total de Provas Aplicadas</th>\n",
       "    </tr>\n",
       "  </thead>\n",
       "  <tbody>\n",
       "    <tr>\n",
       "      <th>0</th>\n",
       "      <td>SP</td>\n",
       "      <td>409480</td>\n",
       "    </tr>\n",
       "    <tr>\n",
       "      <th>1</th>\n",
       "      <td>MG</td>\n",
       "      <td>250015</td>\n",
       "    </tr>\n",
       "    <tr>\n",
       "      <th>2</th>\n",
       "      <td>BA</td>\n",
       "      <td>220257</td>\n",
       "    </tr>\n",
       "    <tr>\n",
       "      <th>3</th>\n",
       "      <td>RJ</td>\n",
       "      <td>184502</td>\n",
       "    </tr>\n",
       "    <tr>\n",
       "      <th>4</th>\n",
       "      <td>CE</td>\n",
       "      <td>173700</td>\n",
       "    </tr>\n",
       "    <tr>\n",
       "      <th>5</th>\n",
       "      <td>PA</td>\n",
       "      <td>153293</td>\n",
       "    </tr>\n",
       "    <tr>\n",
       "      <th>6</th>\n",
       "      <td>PE</td>\n",
       "      <td>152574</td>\n",
       "    </tr>\n",
       "    <tr>\n",
       "      <th>7</th>\n",
       "      <td>PR</td>\n",
       "      <td>114776</td>\n",
       "    </tr>\n",
       "    <tr>\n",
       "      <th>8</th>\n",
       "      <td>MA</td>\n",
       "      <td>112482</td>\n",
       "    </tr>\n",
       "    <tr>\n",
       "      <th>9</th>\n",
       "      <td>RS</td>\n",
       "      <td>110735</td>\n",
       "    </tr>\n",
       "    <tr>\n",
       "      <th>10</th>\n",
       "      <td>GO</td>\n",
       "      <td>96351</td>\n",
       "    </tr>\n",
       "    <tr>\n",
       "      <th>11</th>\n",
       "      <td>PB</td>\n",
       "      <td>87603</td>\n",
       "    </tr>\n",
       "    <tr>\n",
       "      <th>12</th>\n",
       "      <td>RN</td>\n",
       "      <td>72805</td>\n",
       "    </tr>\n",
       "    <tr>\n",
       "      <th>13</th>\n",
       "      <td>PI</td>\n",
       "      <td>70761</td>\n",
       "    </tr>\n",
       "    <tr>\n",
       "      <th>14</th>\n",
       "      <td>SC</td>\n",
       "      <td>62700</td>\n",
       "    </tr>\n",
       "    <tr>\n",
       "      <th>15</th>\n",
       "      <td>AL</td>\n",
       "      <td>54953</td>\n",
       "    </tr>\n",
       "    <tr>\n",
       "      <th>16</th>\n",
       "      <td>DF</td>\n",
       "      <td>50267</td>\n",
       "    </tr>\n",
       "    <tr>\n",
       "      <th>17</th>\n",
       "      <td>ES</td>\n",
       "      <td>49235</td>\n",
       "    </tr>\n",
       "    <tr>\n",
       "      <th>18</th>\n",
       "      <td>AM</td>\n",
       "      <td>47909</td>\n",
       "    </tr>\n",
       "    <tr>\n",
       "      <th>19</th>\n",
       "      <td>SE</td>\n",
       "      <td>47189</td>\n",
       "    </tr>\n",
       "    <tr>\n",
       "      <th>20</th>\n",
       "      <td>MT</td>\n",
       "      <td>41481</td>\n",
       "    </tr>\n",
       "    <tr>\n",
       "      <th>21</th>\n",
       "      <td>MS</td>\n",
       "      <td>31239</td>\n",
       "    </tr>\n",
       "    <tr>\n",
       "      <th>22</th>\n",
       "      <td>RO</td>\n",
       "      <td>22999</td>\n",
       "    </tr>\n",
       "    <tr>\n",
       "      <th>23</th>\n",
       "      <td>TO</td>\n",
       "      <td>21612</td>\n",
       "    </tr>\n",
       "    <tr>\n",
       "      <th>24</th>\n",
       "      <td>AP</td>\n",
       "      <td>18177</td>\n",
       "    </tr>\n",
       "    <tr>\n",
       "      <th>25</th>\n",
       "      <td>AC</td>\n",
       "      <td>15099</td>\n",
       "    </tr>\n",
       "    <tr>\n",
       "      <th>26</th>\n",
       "      <td>RR</td>\n",
       "      <td>6070</td>\n",
       "    </tr>\n",
       "  </tbody>\n",
       "</table>\n",
       "</div>"
      ],
      "text/plain": [
       "    UF  Total de Provas Aplicadas\n",
       "0   SP                     409480\n",
       "1   MG                     250015\n",
       "2   BA                     220257\n",
       "3   RJ                     184502\n",
       "4   CE                     173700\n",
       "5   PA                     153293\n",
       "6   PE                     152574\n",
       "7   PR                     114776\n",
       "8   MA                     112482\n",
       "9   RS                     110735\n",
       "10  GO                      96351\n",
       "11  PB                      87603\n",
       "12  RN                      72805\n",
       "13  PI                      70761\n",
       "14  SC                      62700\n",
       "15  AL                      54953\n",
       "16  DF                      50267\n",
       "17  ES                      49235\n",
       "18  AM                      47909\n",
       "19  SE                      47189\n",
       "20  MT                      41481\n",
       "21  MS                      31239\n",
       "22  RO                      22999\n",
       "23  TO                      21612\n",
       "24  AP                      18177\n",
       "25  AC                      15099\n",
       "26  RR                       6070"
      ]
     },
     "execution_count": 122,
     "metadata": {},
     "output_type": "execute_result"
    }
   ],
   "source": [
    "df_ufs"
   ]
  },
  {
   "cell_type": "code",
   "execution_count": 98,
   "metadata": {},
   "outputs": [],
   "source": [
    "df_ufs = pd.DataFrame(ufs_dict)"
   ]
  },
  {
   "cell_type": "code",
   "execution_count": 99,
   "metadata": {},
   "outputs": [
    {
     "data": {
      "text/html": [
       "<div>\n",
       "<style scoped>\n",
       "    .dataframe tbody tr th:only-of-type {\n",
       "        vertical-align: middle;\n",
       "    }\n",
       "\n",
       "    .dataframe tbody tr th {\n",
       "        vertical-align: top;\n",
       "    }\n",
       "\n",
       "    .dataframe thead th {\n",
       "        text-align: right;\n",
       "    }\n",
       "</style>\n",
       "<table border=\"1\" class=\"dataframe\">\n",
       "  <thead>\n",
       "    <tr style=\"text-align: right;\">\n",
       "      <th></th>\n",
       "      <th>Total de Provas Aplicadas por UF</th>\n",
       "    </tr>\n",
       "  </thead>\n",
       "  <tbody>\n",
       "    <tr>\n",
       "      <th>0</th>\n",
       "      <td>{'SP': 409480, 'MG': 250015, 'BA': 220257, 'RJ...</td>\n",
       "    </tr>\n",
       "  </tbody>\n",
       "</table>\n",
       "</div>"
      ],
      "text/plain": [
       "                    Total de Provas Aplicadas por UF\n",
       "0  {'SP': 409480, 'MG': 250015, 'BA': 220257, 'RJ..."
      ]
     },
     "execution_count": 99,
     "metadata": {},
     "output_type": "execute_result"
    }
   ],
   "source": [
    "df_ufs"
   ]
  }
 ],
 "metadata": {
  "kernelspec": {
   "display_name": "Python 3",
   "language": "python",
   "name": "python3"
  },
  "language_info": {
   "codemirror_mode": {
    "name": "ipython",
    "version": 3
   },
   "file_extension": ".py",
   "mimetype": "text/x-python",
   "name": "python",
   "nbconvert_exporter": "python",
   "pygments_lexer": "ipython3",
   "version": "3.12.4"
  }
 },
 "nbformat": 4,
 "nbformat_minor": 2
}
