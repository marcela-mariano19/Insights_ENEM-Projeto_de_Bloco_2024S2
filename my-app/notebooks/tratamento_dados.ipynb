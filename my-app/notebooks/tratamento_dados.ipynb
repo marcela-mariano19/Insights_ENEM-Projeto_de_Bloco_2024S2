{
 "cells": [
  {
   "cell_type": "code",
   "execution_count": 1,
   "metadata": {},
   "outputs": [],
   "source": [
    "import pandas as pd\n",
    "\n",
    "# Carregar o arquivo CSV\n",
    "df_enem = pd.read_csv(\"C:/Users/Marcela Beatriz/Documents/GitHub/ENEM_Insights-Projeto_de_Bloco_2024S2/my-app/data/raw/MICRODADOS_ENEM_2023.csv\", sep=\";\",encoding='ANSI')\n",
    "\n",
    "# Salvar o DataFrame no formato Parquet\n",
    "df_enem.to_parquet(\"C:/Users/Marcela Beatriz/Documents/GitHub/ENEM_Insights-Projeto_de_Bloco_2024S2/my-app/data/treated/df_enem.parquet\")\n"
   ]
  },
  {
   "cell_type": "code",
   "execution_count": 3,
   "metadata": {},
   "outputs": [
    {
     "data": {
      "text/plain": [
       "(3933955, 76)"
      ]
     },
     "execution_count": 3,
     "metadata": {},
     "output_type": "execute_result"
    }
   ],
   "source": [
    "#Tamanho da base\n",
    "df_enem.shape"
   ]
  },
  {
   "cell_type": "code",
   "execution_count": 2,
   "metadata": {},
   "outputs": [
    {
     "name": "stdout",
     "output_type": "stream",
     "text": [
      "<class 'pandas.core.frame.DataFrame'>\n",
      "RangeIndex: 3933955 entries, 0 to 3933954\n",
      "Data columns (total 76 columns):\n",
      " #   Column                  Dtype  \n",
      "---  ------                  -----  \n",
      " 0   NU_INSCRICAO            int64  \n",
      " 1   NU_ANO                  int64  \n",
      " 2   TP_FAIXA_ETARIA         int64  \n",
      " 3   TP_SEXO                 object \n",
      " 4   TP_ESTADO_CIVIL         int64  \n",
      " 5   TP_COR_RACA             int64  \n",
      " 6   TP_NACIONALIDADE        int64  \n",
      " 7   TP_ST_CONCLUSAO         int64  \n",
      " 8   TP_ANO_CONCLUIU         int64  \n",
      " 9   TP_ESCOLA               int64  \n",
      " 10  TP_ENSINO               float64\n",
      " 11  IN_TREINEIRO            int64  \n",
      " 12  CO_MUNICIPIO_ESC        float64\n",
      " 13  NO_MUNICIPIO_ESC        object \n",
      " 14  CO_UF_ESC               float64\n",
      " 15  SG_UF_ESC               object \n",
      " 16  TP_DEPENDENCIA_ADM_ESC  float64\n",
      " 17  TP_LOCALIZACAO_ESC      float64\n",
      " 18  TP_SIT_FUNC_ESC         float64\n",
      " 19  CO_MUNICIPIO_PROVA      int64  \n",
      " 20  NO_MUNICIPIO_PROVA      object \n",
      " 21  CO_UF_PROVA             int64  \n",
      " 22  SG_UF_PROVA             object \n",
      " 23  TP_PRESENCA_CN          int64  \n",
      " 24  TP_PRESENCA_CH          int64  \n",
      " 25  TP_PRESENCA_LC          int64  \n",
      " 26  TP_PRESENCA_MT          int64  \n",
      " 27  CO_PROVA_CN             float64\n",
      " 28  CO_PROVA_CH             float64\n",
      " 29  CO_PROVA_LC             float64\n",
      " 30  CO_PROVA_MT             float64\n",
      " 31  NU_NOTA_CN              float64\n",
      " 32  NU_NOTA_CH              float64\n",
      " 33  NU_NOTA_LC              float64\n",
      " 34  NU_NOTA_MT              float64\n",
      " 35  TX_RESPOSTAS_CN         object \n",
      " 36  TX_RESPOSTAS_CH         object \n",
      " 37  TX_RESPOSTAS_LC         object \n",
      " 38  TX_RESPOSTAS_MT         object \n",
      " 39  TP_LINGUA               int64  \n",
      " 40  TX_GABARITO_CN          object \n",
      " 41  TX_GABARITO_CH          object \n",
      " 42  TX_GABARITO_LC          object \n",
      " 43  TX_GABARITO_MT          object \n",
      " 44  TP_STATUS_REDACAO       float64\n",
      " 45  NU_NOTA_COMP1           float64\n",
      " 46  NU_NOTA_COMP2           float64\n",
      " 47  NU_NOTA_COMP3           float64\n",
      " 48  NU_NOTA_COMP4           float64\n",
      " 49  NU_NOTA_COMP5           float64\n",
      " 50  NU_NOTA_REDACAO         float64\n",
      " 51  Q001                    object \n",
      " 52  Q002                    object \n",
      " 53  Q003                    object \n",
      " 54  Q004                    object \n",
      " 55  Q005                    int64  \n",
      " 56  Q006                    object \n",
      " 57  Q007                    object \n",
      " 58  Q008                    object \n",
      " 59  Q009                    object \n",
      " 60  Q010                    object \n",
      " 61  Q011                    object \n",
      " 62  Q012                    object \n",
      " 63  Q013                    object \n",
      " 64  Q014                    object \n",
      " 65  Q015                    object \n",
      " 66  Q016                    object \n",
      " 67  Q017                    object \n",
      " 68  Q018                    object \n",
      " 69  Q019                    object \n",
      " 70  Q020                    object \n",
      " 71  Q021                    object \n",
      " 72  Q022                    object \n",
      " 73  Q023                    object \n",
      " 74  Q024                    object \n",
      " 75  Q025                    object \n",
      "dtypes: float64(21), int64(18), object(37)\n",
      "memory usage: 2.2+ GB\n"
     ]
    }
   ],
   "source": [
    "df_enem.info()"
   ]
  },
  {
   "cell_type": "code",
   "execution_count": 3,
   "metadata": {},
   "outputs": [
    {
     "data": {
      "text/plain": [
       "<bound method DataFrame.info of          NU_INSCRICAO  NU_ANO  TP_FAIXA_ETARIA TP_SEXO  TP_ESTADO_CIVIL  \\\n",
       "0        210059085136    2023               14       M                2   \n",
       "1        210059527735    2023               12       M                2   \n",
       "2        210061103945    2023                6       F                1   \n",
       "3        210060214087    2023                2       F                1   \n",
       "4        210059980948    2023                3       F                1   \n",
       "...               ...     ...              ...     ...              ...   \n",
       "3933950  210061959676    2023               12       M                1   \n",
       "3933951  210061950911    2023                1       F                1   \n",
       "3933952  210061965966    2023                3       F                1   \n",
       "3933953  210061932304    2023                2       M                1   \n",
       "3933954  210058924455    2023                3       F                1   \n",
       "\n",
       "         TP_COR_RACA  TP_NACIONALIDADE  TP_ST_CONCLUSAO  TP_ANO_CONCLUIU  \\\n",
       "0                  1                 1                1               17   \n",
       "1                  1                 0                1               16   \n",
       "2                  1                 1                1                0   \n",
       "3                  3                 1                2                0   \n",
       "4                  3                 1                2                0   \n",
       "...              ...               ...              ...              ...   \n",
       "3933950            1                 1                1                6   \n",
       "3933951            1                 2                3                0   \n",
       "3933952            3                 1                2                0   \n",
       "3933953            1                 1                2                0   \n",
       "3933954            3                 1                2                0   \n",
       "\n",
       "         TP_ESCOLA  ...  Q016  Q017  Q018 Q019  Q020 Q021  Q022  Q023  Q024  \\\n",
       "0                1  ...     C     C     B    B     A    B     B     A     A   \n",
       "1                1  ...     B     A     B    B     A    A     C     A     D   \n",
       "2                1  ...     B     A     A    B     A    A     A     A     A   \n",
       "3                2  ...     A     A     A    B     A    A     D     A     A   \n",
       "4                2  ...     A     A     A    B     A    A     B     A     A   \n",
       "...            ...  ...   ...   ...   ...  ...   ...  ...   ...   ...   ...   \n",
       "3933950          1  ...     B     A     A    C     A    B     E     A     A   \n",
       "3933951          1  ...     B     A     B    C     B    B     B     B     C   \n",
       "3933952          2  ...     A     A     A    B     A    A     B     A     A   \n",
       "3933953          3  ...     B     B     B    C     A    A     D     A     C   \n",
       "3933954          2  ...     A     A     A    B     B    A     D     A     B   \n",
       "\n",
       "         Q025  \n",
       "0           B  \n",
       "1           B  \n",
       "2           B  \n",
       "3           B  \n",
       "4           A  \n",
       "...       ...  \n",
       "3933950     B  \n",
       "3933951     B  \n",
       "3933952     B  \n",
       "3933953     B  \n",
       "3933954     B  \n",
       "\n",
       "[3933955 rows x 76 columns]>"
      ]
     },
     "execution_count": 3,
     "metadata": {},
     "output_type": "execute_result"
    }
   ],
   "source": []
  },
  {
   "cell_type": "code",
   "execution_count": 4,
   "metadata": {},
   "outputs": [],
   "source": [
    "df_enem.head(10000).to_csv(\"C:/Users/Marcela Beatriz/Documents/GitHub/ENEM_Insights-Projeto_de_Bloco_2024S2/my-app/data/treated/df_enem_amostra.csv\", sep=\";\", index=False)"
   ]
  }
 ],
 "metadata": {
  "kernelspec": {
   "display_name": "Python 3",
   "language": "python",
   "name": "python3"
  },
  "language_info": {
   "codemirror_mode": {
    "name": "ipython",
    "version": 3
   },
   "file_extension": ".py",
   "mimetype": "text/x-python",
   "name": "python",
   "nbconvert_exporter": "python",
   "pygments_lexer": "ipython3",
   "version": "3.12.4"
  }
 },
 "nbformat": 4,
 "nbformat_minor": 2
}
