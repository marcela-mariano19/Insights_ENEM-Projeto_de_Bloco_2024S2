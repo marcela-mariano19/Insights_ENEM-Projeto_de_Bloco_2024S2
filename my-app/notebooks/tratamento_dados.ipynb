{
 "cells": [
  {
   "cell_type": "code",
   "execution_count": 3,
   "metadata": {},
   "outputs": [],
   "source": [
    "import pandas as pd"
   ]
  },
  {
   "cell_type": "code",
   "execution_count": null,
   "metadata": {},
   "outputs": [],
   "source": [
    "# Carregar o arquivo CSV\n",
    "df_enem = pd.read_csv(\"../data/raw/MICRODADOS_ENEM_2023.csv\", sep=\";\",encoding='ANSI')"
   ]
  },
  {
   "cell_type": "code",
   "execution_count": null,
   "metadata": {},
   "outputs": [],
   "source": [
    "# Salvar o DataFrame no formato Parquet\n",
    "df_enem.to_parquet(\"../data/treated/df_enem.parquet\")"
   ]
  },
  {
   "cell_type": "code",
   "execution_count": 4,
   "metadata": {},
   "outputs": [],
   "source": [
    "#Carregando do arquivo para não precisar tratar toda vez\n",
    "df_enem = pd.read_parquet(\"../data/treated/df_enem.parquet\")\n",
    "df_enem_al_presence_full = pd.read_parquet(\"../data/treated/df_enem_al_presence_full.parquet\")"
   ]
  },
  {
   "cell_type": "markdown",
   "metadata": {},
   "source": [
    "## Exploração dos Dados Gerais"
   ]
  },
  {
   "cell_type": "code",
   "execution_count": 93,
   "metadata": {},
   "outputs": [
    {
     "data": {
      "text/plain": [
       "(3933955, 76)"
      ]
     },
     "execution_count": 93,
     "metadata": {},
     "output_type": "execute_result"
    }
   ],
   "source": [
    "#Tamanho da base\n",
    "df_enem.shape"
   ]
  },
  {
   "cell_type": "code",
   "execution_count": 55,
   "metadata": {},
   "outputs": [
    {
     "data": {
      "text/html": [
       "<div>\n",
       "<style scoped>\n",
       "    .dataframe tbody tr th:only-of-type {\n",
       "        vertical-align: middle;\n",
       "    }\n",
       "\n",
       "    .dataframe tbody tr th {\n",
       "        vertical-align: top;\n",
       "    }\n",
       "\n",
       "    .dataframe thead th {\n",
       "        text-align: right;\n",
       "    }\n",
       "</style>\n",
       "<table border=\"1\" class=\"dataframe\">\n",
       "  <thead>\n",
       "    <tr style=\"text-align: right;\">\n",
       "      <th></th>\n",
       "      <th>NU_INSCRICAO</th>\n",
       "      <th>NU_ANO</th>\n",
       "      <th>TP_FAIXA_ETARIA</th>\n",
       "      <th>TP_SEXO</th>\n",
       "      <th>TP_ESTADO_CIVIL</th>\n",
       "      <th>TP_COR_RACA</th>\n",
       "      <th>TP_NACIONALIDADE</th>\n",
       "      <th>TP_ST_CONCLUSAO</th>\n",
       "      <th>TP_ANO_CONCLUIU</th>\n",
       "      <th>TP_ESCOLA</th>\n",
       "      <th>...</th>\n",
       "      <th>Q016</th>\n",
       "      <th>Q017</th>\n",
       "      <th>Q018</th>\n",
       "      <th>Q019</th>\n",
       "      <th>Q020</th>\n",
       "      <th>Q021</th>\n",
       "      <th>Q022</th>\n",
       "      <th>Q023</th>\n",
       "      <th>Q024</th>\n",
       "      <th>Q025</th>\n",
       "    </tr>\n",
       "  </thead>\n",
       "  <tbody>\n",
       "    <tr>\n",
       "      <th>0</th>\n",
       "      <td>210059085136</td>\n",
       "      <td>2023</td>\n",
       "      <td>14</td>\n",
       "      <td>M</td>\n",
       "      <td>2</td>\n",
       "      <td>1</td>\n",
       "      <td>1</td>\n",
       "      <td>1</td>\n",
       "      <td>17</td>\n",
       "      <td>1</td>\n",
       "      <td>...</td>\n",
       "      <td>C</td>\n",
       "      <td>C</td>\n",
       "      <td>B</td>\n",
       "      <td>B</td>\n",
       "      <td>A</td>\n",
       "      <td>B</td>\n",
       "      <td>B</td>\n",
       "      <td>A</td>\n",
       "      <td>A</td>\n",
       "      <td>B</td>\n",
       "    </tr>\n",
       "    <tr>\n",
       "      <th>1</th>\n",
       "      <td>210059527735</td>\n",
       "      <td>2023</td>\n",
       "      <td>12</td>\n",
       "      <td>M</td>\n",
       "      <td>2</td>\n",
       "      <td>1</td>\n",
       "      <td>0</td>\n",
       "      <td>1</td>\n",
       "      <td>16</td>\n",
       "      <td>1</td>\n",
       "      <td>...</td>\n",
       "      <td>B</td>\n",
       "      <td>A</td>\n",
       "      <td>B</td>\n",
       "      <td>B</td>\n",
       "      <td>A</td>\n",
       "      <td>A</td>\n",
       "      <td>C</td>\n",
       "      <td>A</td>\n",
       "      <td>D</td>\n",
       "      <td>B</td>\n",
       "    </tr>\n",
       "    <tr>\n",
       "      <th>2</th>\n",
       "      <td>210061103945</td>\n",
       "      <td>2023</td>\n",
       "      <td>6</td>\n",
       "      <td>F</td>\n",
       "      <td>1</td>\n",
       "      <td>1</td>\n",
       "      <td>1</td>\n",
       "      <td>1</td>\n",
       "      <td>0</td>\n",
       "      <td>1</td>\n",
       "      <td>...</td>\n",
       "      <td>B</td>\n",
       "      <td>A</td>\n",
       "      <td>A</td>\n",
       "      <td>B</td>\n",
       "      <td>A</td>\n",
       "      <td>A</td>\n",
       "      <td>A</td>\n",
       "      <td>A</td>\n",
       "      <td>A</td>\n",
       "      <td>B</td>\n",
       "    </tr>\n",
       "    <tr>\n",
       "      <th>3</th>\n",
       "      <td>210060214087</td>\n",
       "      <td>2023</td>\n",
       "      <td>2</td>\n",
       "      <td>F</td>\n",
       "      <td>1</td>\n",
       "      <td>3</td>\n",
       "      <td>1</td>\n",
       "      <td>2</td>\n",
       "      <td>0</td>\n",
       "      <td>2</td>\n",
       "      <td>...</td>\n",
       "      <td>A</td>\n",
       "      <td>A</td>\n",
       "      <td>A</td>\n",
       "      <td>B</td>\n",
       "      <td>A</td>\n",
       "      <td>A</td>\n",
       "      <td>D</td>\n",
       "      <td>A</td>\n",
       "      <td>A</td>\n",
       "      <td>B</td>\n",
       "    </tr>\n",
       "    <tr>\n",
       "      <th>4</th>\n",
       "      <td>210059980948</td>\n",
       "      <td>2023</td>\n",
       "      <td>3</td>\n",
       "      <td>F</td>\n",
       "      <td>1</td>\n",
       "      <td>3</td>\n",
       "      <td>1</td>\n",
       "      <td>2</td>\n",
       "      <td>0</td>\n",
       "      <td>2</td>\n",
       "      <td>...</td>\n",
       "      <td>A</td>\n",
       "      <td>A</td>\n",
       "      <td>A</td>\n",
       "      <td>B</td>\n",
       "      <td>A</td>\n",
       "      <td>A</td>\n",
       "      <td>B</td>\n",
       "      <td>A</td>\n",
       "      <td>A</td>\n",
       "      <td>A</td>\n",
       "    </tr>\n",
       "  </tbody>\n",
       "</table>\n",
       "<p>5 rows × 76 columns</p>\n",
       "</div>"
      ],
      "text/plain": [
       "   NU_INSCRICAO  NU_ANO  TP_FAIXA_ETARIA TP_SEXO  TP_ESTADO_CIVIL  \\\n",
       "0  210059085136    2023               14       M                2   \n",
       "1  210059527735    2023               12       M                2   \n",
       "2  210061103945    2023                6       F                1   \n",
       "3  210060214087    2023                2       F                1   \n",
       "4  210059980948    2023                3       F                1   \n",
       "\n",
       "   TP_COR_RACA  TP_NACIONALIDADE  TP_ST_CONCLUSAO  TP_ANO_CONCLUIU  TP_ESCOLA  \\\n",
       "0            1                 1                1               17          1   \n",
       "1            1                 0                1               16          1   \n",
       "2            1                 1                1                0          1   \n",
       "3            3                 1                2                0          2   \n",
       "4            3                 1                2                0          2   \n",
       "\n",
       "   ...  Q016  Q017  Q018 Q019  Q020 Q021  Q022  Q023  Q024  Q025  \n",
       "0  ...     C     C     B    B     A    B     B     A     A     B  \n",
       "1  ...     B     A     B    B     A    A     C     A     D     B  \n",
       "2  ...     B     A     A    B     A    A     A     A     A     B  \n",
       "3  ...     A     A     A    B     A    A     D     A     A     B  \n",
       "4  ...     A     A     A    B     A    A     B     A     A     A  \n",
       "\n",
       "[5 rows x 76 columns]"
      ]
     },
     "execution_count": 55,
     "metadata": {},
     "output_type": "execute_result"
    }
   ],
   "source": [
    "#Mostrando primeiras linhas\n",
    "df_enem.head()"
   ]
  },
  {
   "cell_type": "markdown",
   "metadata": {},
   "source": [
    "## Filtro para Inscritos Presentes e Exclusão de Colunas Desnecessárias"
   ]
  },
  {
   "cell_type": "markdown",
   "metadata": {},
   "source": [
    "Retirando os alunos que faltaram a prova e aguardando em outro objeto"
   ]
  },
  {
   "cell_type": "code",
   "execution_count": 58,
   "metadata": {},
   "outputs": [],
   "source": [
    "filter_al_presence = (df_enem['TP_PRESENCA_CN']== 1) & (df_enem['TP_PRESENCA_CH'] == 1) & (df_enem['TP_PRESENCA_LC'] == 1) & (df_enem['TP_PRESENCA_MT'] == 1)\n",
    "\n",
    "df_enem_al_presence_full = df_enem[(filter_al_presence)]"
   ]
  },
  {
   "cell_type": "markdown",
   "metadata": {},
   "source": [
    "Tamanho da base após retirada de faltantes"
   ]
  },
  {
   "cell_type": "code",
   "execution_count": 59,
   "metadata": {},
   "outputs": [
    {
     "data": {
      "text/plain": [
       "(2678264, 76)"
      ]
     },
     "execution_count": 59,
     "metadata": {},
     "output_type": "execute_result"
    }
   ],
   "source": [
    "df_enem_al_presence_full.shape"
   ]
  },
  {
   "cell_type": "markdown",
   "metadata": {},
   "source": [
    "Retirando colunas desnecessárias"
   ]
  },
  {
   "cell_type": "code",
   "execution_count": 73,
   "metadata": {},
   "outputs": [
    {
     "name": "stderr",
     "output_type": "stream",
     "text": [
      "C:\\Users\\Marcela Beatriz\\AppData\\Local\\Temp\\ipykernel_18324\\545237176.py:24: SettingWithCopyWarning: \n",
      "A value is trying to be set on a copy of a slice from a DataFrame\n",
      "\n",
      "See the caveats in the documentation: https://pandas.pydata.org/pandas-docs/stable/user_guide/indexing.html#returning-a-view-versus-a-copy\n",
      "  df_enem_al_presence_full.drop(columns=colums_drop, inplace=True)\n"
     ]
    }
   ],
   "source": [
    "colums_drop = ['TP_PRESENCA_CN',\n",
    "'TP_PRESENCA_CH',\n",
    "'TP_PRESENCA_LC',\n",
    "'TP_PRESENCA_MT',\n",
    "'CO_PROVA_CH',\n",
    "'CO_PROVA_LC',\n",
    "'CO_PROVA_MT',\n",
    "'TX_RESPOSTAS_CN',\n",
    "'TX_RESPOSTAS_CH',\n",
    "'TX_RESPOSTAS_LC',\n",
    "'TX_RESPOSTAS_MT',\n",
    "'TX_GABARITO_CN',\n",
    "'TX_GABARITO_CH',\n",
    "'TX_GABARITO_LC',\n",
    "'TX_GABARITO_MT',\n",
    "'CO_MUNICIPIO_ESC',\n",
    "'CO_UF_ESC',\n",
    "'NU_ANO',\n",
    "'CO_MUNICIPIO_PROVA',\n",
    "'CO_UF_PROVA']\n",
    "\n",
    "#Removendo colunas\n",
    "\n",
    "df_enem_al_presence_full.drop(columns=colums_drop, inplace=True)\n",
    "df_enem_al_presence_full.to_parquet(\"../data/treated/df_enem_al_presence_full.parquet\")"
   ]
  },
  {
   "cell_type": "markdown",
   "metadata": {},
   "source": [
    "Salvando dataframe para uso posterior"
   ]
  },
  {
   "cell_type": "code",
   "execution_count": 74,
   "metadata": {},
   "outputs": [],
   "source": [
    "df_enem_al_presence_full.to_parquet(\"../data/treated/df_enem_al_presence_full.parquet\")"
   ]
  },
  {
   "cell_type": "markdown",
   "metadata": {},
   "source": [
    "## Exploração do df_enem_al_presence_full"
   ]
  },
  {
   "cell_type": "markdown",
   "metadata": {},
   "source": [
    "Tipo de Nacionalidade"
   ]
  },
  {
   "cell_type": "code",
   "execution_count": 64,
   "metadata": {},
   "outputs": [
    {
     "data": {
      "text/plain": [
       "TP_NACIONALIDADE\n",
       "1    2618387\n",
       "2      47606\n",
       "4       6337\n",
       "3       4690\n",
       "0       1244\n",
       "Name: count, dtype: int64"
      ]
     },
     "execution_count": 64,
     "metadata": {},
     "output_type": "execute_result"
    }
   ],
   "source": [
    "# 1\tBrasileiro(a)\n",
    "# 2\tBrasileiro(a) Naturalizado(a)\n",
    "# 3\tEstrangeiro(a)\n",
    "# 4\tBrasileiro(a) Nato(a), nascido(a) no exterior\n",
    "\n",
    "\n",
    "df_enem_al_presence_full['TP_NACIONALIDADE'].value_counts()"
   ]
  },
  {
   "cell_type": "markdown",
   "metadata": {},
   "source": [
    "Qual é a distribuição por sexo?"
   ]
  },
  {
   "cell_type": "code",
   "execution_count": 68,
   "metadata": {},
   "outputs": [
    {
     "data": {
      "text/plain": [
       "TP_SEXO\n",
       "F    1644046\n",
       "M    1034218\n",
       "Name: count, dtype: int64"
      ]
     },
     "execution_count": 68,
     "metadata": {},
     "output_type": "execute_result"
    }
   ],
   "source": [
    "df_enem_al_presence_full['TP_SEXO'].value_counts()"
   ]
  },
  {
   "cell_type": "markdown",
   "metadata": {},
   "source": [
    "Região das escolas"
   ]
  },
  {
   "cell_type": "code",
   "execution_count": 59,
   "metadata": {},
   "outputs": [
    {
     "data": {
      "text/plain": [
       "TP_LOCALIZACAO_ESC\n",
       "1.0    697117\n",
       "2.0     24312\n",
       "Name: count, dtype: int64"
      ]
     },
     "execution_count": 59,
     "metadata": {},
     "output_type": "execute_result"
    }
   ],
   "source": [
    "# 1 = Urbana, 2 = Rural\n",
    "df_enem_al_presence_full['TP_LOCALIZACAO_ESC'].value_counts()"
   ]
  },
  {
   "cell_type": "markdown",
   "metadata": {},
   "source": [
    "Tipo da escola"
   ]
  },
  {
   "cell_type": "code",
   "execution_count": 60,
   "metadata": {},
   "outputs": [
    {
     "data": {
      "text/plain": [
       "TP_DEPENDENCIA_ADM_ESC\n",
       "1.0     43946\n",
       "2.0    456911\n",
       "3.0      5832\n",
       "4.0    214740\n",
       "Name: count, dtype: int64"
      ]
     },
     "execution_count": 60,
     "metadata": {},
     "output_type": "execute_result"
    }
   ],
   "source": [
    "# 1\tFederal\n",
    "# 2\tEstadual\n",
    "# 3\tMunicipal\n",
    "# 4\tPrivada\n",
    "\n",
    "df_enem_al_presence_full['TP_DEPENDENCIA_ADM_ESC'].value_counts().sort_index()"
   ]
  },
  {
   "cell_type": "markdown",
   "metadata": {},
   "source": [
    "Contagem de pessoas pro ano de conclusão"
   ]
  },
  {
   "cell_type": "code",
   "execution_count": 62,
   "metadata": {},
   "outputs": [
    {
     "data": {
      "text/plain": [
       "TP_ANO_CONCLUIU\n",
       "0     1670514\n",
       "1      295560\n",
       "2      173707\n",
       "3       92873\n",
       "17      83542\n",
       "4       79430\n",
       "5       57522\n",
       "6       45525\n",
       "7       33974\n",
       "8       27645\n",
       "9       22841\n",
       "10      19441\n",
       "11      17155\n",
       "12      13869\n",
       "13      13074\n",
       "14      11580\n",
       "15      10167\n",
       "16       9845\n",
       "Name: count, dtype: int64"
      ]
     },
     "execution_count": 62,
     "metadata": {},
     "output_type": "execute_result"
    }
   ],
   "source": [
    "# 0\tNão informado\n",
    "# 1\t2022\n",
    "# 2\t2021\n",
    "# 3\t2020\n",
    "# 4\t2019\n",
    "# 5\t2018\n",
    "# 6\t2017\n",
    "# 7\t2016\n",
    "# 8\t2015\n",
    "# 9\t2014\n",
    "# 10\t2013\n",
    "# 11\t2012\n",
    "# 12\t2011\n",
    "# 13\t2010\n",
    "# 14\t2009\n",
    "# 15\t2008\n",
    "# 16\t2007\n",
    "# 17\tAntes de 2007\n",
    "\n",
    "df_enem_al_presence_full['TP_ANO_CONCLUIU'].value_counts()"
   ]
  },
  {
   "cell_type": "markdown",
   "metadata": {},
   "source": [
    "Quantos treineiros fizeram a prova de 2023?"
   ]
  },
  {
   "cell_type": "code",
   "execution_count": 65,
   "metadata": {},
   "outputs": [
    {
     "data": {
      "text/plain": [
       "IN_TREINEIRO\n",
       "0    2166843\n",
       "1     511421\n",
       "Name: count, dtype: int64"
      ]
     },
     "execution_count": 65,
     "metadata": {},
     "output_type": "execute_result"
    }
   ],
   "source": [
    "df_enem_al_presence_full['IN_TREINEIRO'].value_counts()"
   ]
  },
  {
   "cell_type": "markdown",
   "metadata": {},
   "source": [
    "Quantas provas foram aplicadas pro município?"
   ]
  },
  {
   "cell_type": "code",
   "execution_count": 66,
   "metadata": {},
   "outputs": [
    {
     "data": {
      "text/plain": [
       "SG_UF_PROVA\n",
       "SP    409480\n",
       "MG    250015\n",
       "BA    220257\n",
       "RJ    184502\n",
       "CE    173700\n",
       "PA    153293\n",
       "PE    152574\n",
       "PR    114776\n",
       "MA    112482\n",
       "RS    110735\n",
       "GO     96351\n",
       "PB     87603\n",
       "RN     72805\n",
       "PI     70761\n",
       "SC     62700\n",
       "AL     54953\n",
       "DF     50267\n",
       "ES     49235\n",
       "AM     47909\n",
       "SE     47189\n",
       "MT     41481\n",
       "MS     31239\n",
       "RO     22999\n",
       "TO     21612\n",
       "AP     18177\n",
       "AC     15099\n",
       "RR      6070\n",
       "Name: count, dtype: int64"
      ]
     },
     "execution_count": 66,
     "metadata": {},
     "output_type": "execute_result"
    }
   ],
   "source": [
    "df_enem_al_presence_full['SG_UF_PROVA'].value_counts()"
   ]
  },
  {
   "cell_type": "markdown",
   "metadata": {},
   "source": [
    "Quantos alunos por UF?"
   ]
  },
  {
   "cell_type": "code",
   "execution_count": 67,
   "metadata": {},
   "outputs": [
    {
     "data": {
      "text/plain": [
       "SG_UF_ESC\n",
       "SP    141339\n",
       "CE     74319\n",
       "MG     52837\n",
       "RJ     49406\n",
       "PR     39952\n",
       "BA     34957\n",
       "PE     34652\n",
       "RS     32073\n",
       "GO     28296\n",
       "PA     27971\n",
       "SC     23658\n",
       "MA     23505\n",
       "PB     18025\n",
       "DF     16819\n",
       "ES     16084\n",
       "AM     14634\n",
       "PI     14565\n",
       "RN     14420\n",
       "AL     13952\n",
       "MT     12279\n",
       "MS      9234\n",
       "SE      8455\n",
       "RO      7041\n",
       "TO      4987\n",
       "AP      3462\n",
       "AC      2920\n",
       "RR      1587\n",
       "Name: count, dtype: int64"
      ]
     },
     "execution_count": 67,
     "metadata": {},
     "output_type": "execute_result"
    }
   ],
   "source": [
    "df_enem_al_presence_full['SG_UF_ESC'].value_counts()"
   ]
  },
  {
   "cell_type": "markdown",
   "metadata": {},
   "source": [
    "Quais foram os tipos de provas aplicadas?"
   ]
  },
  {
   "cell_type": "code",
   "execution_count": 70,
   "metadata": {},
   "outputs": [
    {
     "data": {
      "text/plain": [
       "CO_PROVA_CN\n",
       "1223.0    671183\n",
       "1224.0    665869\n",
       "1222.0    665399\n",
       "1221.0    664706\n",
       "1225.0      3306\n",
       "1303.0      1304\n",
       "1304.0      1295\n",
       "1302.0      1290\n",
       "1301.0      1289\n",
       "1229.0      1199\n",
       "1228.0       663\n",
       "1226.0       641\n",
       "1227.0       120\n",
       "Name: count, dtype: int64"
      ]
     },
     "execution_count": 70,
     "metadata": {},
     "output_type": "execute_result"
    }
   ],
   "source": [
    "# 1221\tAzul\n",
    "# 1222\tAmarela\n",
    "# 1223\tRosa\n",
    "# 1224\tCinza\n",
    "# 1225\tRosa - Ampliada\n",
    "# 1226\tRosa - Superampliada\n",
    "# 1227\tLaranja - Braile\n",
    "# 1228\tLaranja - Adaptada Ledor\n",
    "# 1229\tVerde - Videoprova - Libras\n",
    "# 1301\tAzul (Reaplicação)\n",
    "# 1302\tAmarela (Reaplicação)\n",
    "# 1303\tCinza (Reaplicação)\n",
    "# 1304\tRosa (Reaplicação)\n",
    "\n",
    "df_enem_al_presence_full['CO_PROVA_CN'].value_counts()"
   ]
  },
  {
   "cell_type": "markdown",
   "metadata": {},
   "source": [
    "## Salvando Insights para Melhorar Desempenho do APP"
   ]
  },
  {
   "cell_type": "code",
   "execution_count": 38,
   "metadata": {},
   "outputs": [],
   "source": [
    "#Armazeando dados principais para exibir no Web APP\n",
    "\n",
    "metrics_of_inscription = []\n",
    "\n",
    "metrics_of_inscription.append({'Total de inscritos': df_enem.shape[0],\n",
    "                               'Total de inscritos presentes': df_enem_al_presence_full.shape[0],\n",
    "                               'Total de inscritos ausentes': df_enem.shape[0] - df_enem_al_presence_full.shape[0],\n",
    "                               'Total de treineiros inscritos': df_enem['IN_TREINEIRO'].value_counts()[1],\n",
    "                               'Total de Mulheres inscritas': df_enem['TP_SEXO'].value_counts()['F'],\n",
    "                                'Total de Homens inscritos': df_enem['TP_SEXO'].value_counts()['M'],\n",
    "                                'Total de Provas Aplicadas por UF': df_enem_al_presence_full['SG_UF_PROVA'].value_counts().to_dict(),\n",
    "                               })"
   ]
  },
  {
   "cell_type": "code",
   "execution_count": 39,
   "metadata": {},
   "outputs": [],
   "source": [
    "df_metrics_inscription = pd.DataFrame(metrics_of_inscription)\n",
    "df_metrics_inscription.to_parquet(\"../data/analysis/df_metrics_inscription.parquet\")"
   ]
  },
  {
   "cell_type": "code",
   "execution_count": 40,
   "metadata": {},
   "outputs": [],
   "source": [
    "ufs_dict = df_metrics_inscription['Total de Provas Aplicadas por UF'][0]\n",
    "df_ufs = pd.DataFrame(list(ufs_dict.items()),columns = ['UF','Total de Provas Aplicadas'])"
   ]
  },
  {
   "cell_type": "markdown",
   "metadata": {},
   "source": [
    "### Capturando Inscritos e Presentes por Região e UF"
   ]
  },
  {
   "cell_type": "code",
   "execution_count": 5,
   "metadata": {},
   "outputs": [],
   "source": [
    "from collections import Counter"
   ]
  },
  {
   "cell_type": "code",
   "execution_count": 20,
   "metadata": {},
   "outputs": [],
   "source": [
    "def states_region(type_df, list_ufs = None, df_uf_region_default = None):\n",
    "    if type_df not in ['presentes','inscritos']:\n",
    "        raise ValueError('type_df deve ser \"presentes\" ou \"inscritos\"')\n",
    "    \n",
    "    elif type_df == 'presentes' and df_uf_region_default is None:\n",
    "        raise ValueError('Para type_df = \"presentes\" é necessário informar o dataframe com região e total de inscritos por UF')\n",
    "\n",
    "    dict_states_regiao = {\n",
    "    \"AC\":\"Norte\",\n",
    "    \"AL\":\"Nordeste\",\n",
    "    \"AP\":\"Norte\",\n",
    "    \"AM\":\"Norte\",\n",
    "    \"BA\":\"Nordeste\",\n",
    "    \"CE\":\"Nordeste\",\n",
    "    \"DF\":\"Centro-Oeste\",\n",
    "    \"ES\":\"Sudeste\",\n",
    "    \"GO\":\"Centro-Oeste\",\n",
    "    \"MA\":\"Nordeste\",\n",
    "    \"MT\":\"Centro-Oeste\",\n",
    "    \"MS\":\"Centro-Oeste\",\n",
    "    \"MG\":\"Sudeste\",\n",
    "    \"PA\":\"Norte\",\n",
    "    \"PB\":\"Nordeste\",\n",
    "    \"PR\":\"Sul\",\n",
    "    \"PE\":\"Nordeste\",\n",
    "    \"PI\":\"Nordeste\",\n",
    "    \"RJ\":\"Sudeste\",\n",
    "    \"RN\":\"Nordeste\",\n",
    "    \"RS\":\"Sul\",\n",
    "    \"RO\":\"Norte\",\n",
    "    \"RR\":\"Norte\",\n",
    "    \"SC\":\"Sul\",\n",
    "    \"SP\":\"Sudeste\",\n",
    "    \"SE\":\"Nordeste\",\n",
    "    \"TO\":\"Norte\"}\n",
    "    if type_df == 'presentes':\n",
    "        df_uf_region_presen =  pd.DataFrame(Counter(list_ufs).items(),columns = ['UF','Total Presentes'])\n",
    "        return df_uf_region_presen\n",
    "    \n",
    "    elif type_df == 'inscritos':\n",
    "        df_uf_region =  pd.DataFrame(Counter(list_ufs).items(),columns = ['UF','Total Inscritos'])\n",
    "        df_uf_region['Regiao'] = df_uf_region['UF'].map(dict_states_regiao)\n",
    "        return df_uf_region \n"
   ]
  },
  {
   "cell_type": "code",
   "execution_count": 26,
   "metadata": {},
   "outputs": [],
   "source": [
    "def presence_percent(df_t):\n",
    "    df_t['Percentual de Presentes'] = ((df_t['Total Presentes'] / df_t['Total Inscritos']) * 100).round(2)\n",
    "    return df_t"
   ]
  },
  {
   "cell_type": "code",
   "execution_count": 53,
   "metadata": {},
   "outputs": [],
   "source": [
    "def presence_sex_state(df_sx):\n",
    "   list_insert = []\n",
    "   for uf in df_sx['SG_UF_PROVA'].unique():\n",
    "       list_insert.append({'UF':uf,\n",
    "                           'Total Mulheres Presentes': df_sx['TP_SEXO'].groupby(df_sx['SG_UF_PROVA']).value_counts()[uf]['F'],\n",
    "                           'Total Homens Presentes': df_sx['TP_SEXO'].groupby(df_sx['SG_UF_PROVA']).value_counts()[uf]['M']})\n",
    "   df_insert = pd.DataFrame(list_insert) \n",
    "    \n",
    "   return df_insert\n",
    "        "
   ]
  },
  {
   "cell_type": "code",
   "execution_count": 68,
   "metadata": {},
   "outputs": [],
   "source": [
    "def full_sex_state(df_sx_full):\n",
    "   list_insert_full = []\n",
    "   for uf in df_sx_full['SG_UF_PROVA'].unique():\n",
    "       list_insert_full.append({'UF':uf,\n",
    "                           'Total Mulheres Inscritas': df_sx_full['TP_SEXO'].groupby(df_sx_full['SG_UF_PROVA']).value_counts()[uf]['F'],\n",
    "                           'Total Homens Inscritos': df_sx_full['TP_SEXO'].groupby(df_sx_full['SG_UF_PROVA']).value_counts()[uf]['M']})\n",
    "   df_insert_full = pd.DataFrame(list_insert_full) \n",
    "    \n",
    "   return df_insert_full"
   ]
  },
  {
   "cell_type": "code",
   "execution_count": 73,
   "metadata": {},
   "outputs": [],
   "source": [
    "#Gerando DataFrame com total de inscritos por região\n",
    "df_uf_region_full = states_region(list_ufs=df_enem['SG_UF_PROVA'],type_df='inscritos')\n",
    "\n",
    "#Gerando DataFrame com total de presentes por região\n",
    "df_uf_region_presence = states_region(df_uf_region_default = df_uf_region_full,list_ufs=df_enem_al_presence_full['SG_UF_PROVA'], type_df = 'presentes')\n",
    "\n",
    "#Unindo os DataFrames\n",
    "df_uf_region_full = df_uf_region_full.merge(df_uf_region_presence[['UF', 'Total Presentes']], on='UF', how='left')"
   ]
  },
  {
   "cell_type": "code",
   "execution_count": 74,
   "metadata": {},
   "outputs": [],
   "source": [
    "#Gerando DataFrame com total de inscritos por região e sexo\n",
    "df_uf_sex_full = full_sex_state(df_enem)\n",
    "\n",
    "#Unindo os DataFrames\n",
    "df_uf_region_full = df_uf_region_full.merge(df_uf_sex_full[['UF','Total Homens Inscritos', 'Total Mulheres Inscritas']], on='UF', how='left')\n"
   ]
  },
  {
   "cell_type": "code",
   "execution_count": 76,
   "metadata": {},
   "outputs": [],
   "source": [
    "#Gerando DataFrame com total de presença por região e sexo\n",
    "df_uf_sex = presence_sex_state(df_enem_al_presence_full)\n",
    "\n",
    "#Unindo os DataFrames\n",
    "df_uf_region_full = df_uf_region_full.merge(df_uf_sex[['UF','Total Homens Presentes', 'Total Mulheres Presentes']], on='UF', how='left')"
   ]
  },
  {
   "cell_type": "code",
   "execution_count": 80,
   "metadata": {},
   "outputs": [],
   "source": [
    "df_uf_region_full.to_parquet(\"../data/analysis/df_uf_region_full.parquet\")"
   ]
  },
  {
   "cell_type": "code",
   "execution_count": 78,
   "metadata": {},
   "outputs": [],
   "source": [
    "#Adicionando coluna de porcentagem de presentes\n",
    "df_uf_region_full = presence_percent(df_uf_region_full)\n"
   ]
  },
  {
   "cell_type": "code",
   "execution_count": 79,
   "metadata": {},
   "outputs": [
    {
     "data": {
      "text/html": [
       "<div>\n",
       "<style scoped>\n",
       "    .dataframe tbody tr th:only-of-type {\n",
       "        vertical-align: middle;\n",
       "    }\n",
       "\n",
       "    .dataframe tbody tr th {\n",
       "        vertical-align: top;\n",
       "    }\n",
       "\n",
       "    .dataframe thead th {\n",
       "        text-align: right;\n",
       "    }\n",
       "</style>\n",
       "<table border=\"1\" class=\"dataframe\">\n",
       "  <thead>\n",
       "    <tr style=\"text-align: right;\">\n",
       "      <th></th>\n",
       "      <th>UF</th>\n",
       "      <th>Total Inscritos</th>\n",
       "      <th>Regiao</th>\n",
       "      <th>Total Presentes</th>\n",
       "      <th>Total Homens Inscritos</th>\n",
       "      <th>Total Mulheres Inscritas</th>\n",
       "      <th>Total Homens Presentes</th>\n",
       "      <th>Total Mulheres Presentes</th>\n",
       "      <th>Percentual de Presentes</th>\n",
       "    </tr>\n",
       "  </thead>\n",
       "  <tbody>\n",
       "    <tr>\n",
       "      <th>0</th>\n",
       "      <td>DF</td>\n",
       "      <td>72975</td>\n",
       "      <td>Centro-Oeste</td>\n",
       "      <td>50267</td>\n",
       "      <td>28782</td>\n",
       "      <td>44193</td>\n",
       "      <td>19719</td>\n",
       "      <td>30548</td>\n",
       "      <td>68.88</td>\n",
       "    </tr>\n",
       "    <tr>\n",
       "      <th>1</th>\n",
       "      <td>RS</td>\n",
       "      <td>159919</td>\n",
       "      <td>Sul</td>\n",
       "      <td>110735</td>\n",
       "      <td>59692</td>\n",
       "      <td>100227</td>\n",
       "      <td>41633</td>\n",
       "      <td>69102</td>\n",
       "      <td>69.24</td>\n",
       "    </tr>\n",
       "    <tr>\n",
       "      <th>2</th>\n",
       "      <td>CE</td>\n",
       "      <td>241960</td>\n",
       "      <td>Nordeste</td>\n",
       "      <td>173700</td>\n",
       "      <td>106239</td>\n",
       "      <td>135721</td>\n",
       "      <td>74852</td>\n",
       "      <td>98848</td>\n",
       "      <td>71.79</td>\n",
       "    </tr>\n",
       "    <tr>\n",
       "      <th>3</th>\n",
       "      <td>BA</td>\n",
       "      <td>324268</td>\n",
       "      <td>Nordeste</td>\n",
       "      <td>220257</td>\n",
       "      <td>113310</td>\n",
       "      <td>210958</td>\n",
       "      <td>77583</td>\n",
       "      <td>142674</td>\n",
       "      <td>67.92</td>\n",
       "    </tr>\n",
       "    <tr>\n",
       "      <th>4</th>\n",
       "      <td>PE</td>\n",
       "      <td>218859</td>\n",
       "      <td>Nordeste</td>\n",
       "      <td>152574</td>\n",
       "      <td>86048</td>\n",
       "      <td>132811</td>\n",
       "      <td>59547</td>\n",
       "      <td>93027</td>\n",
       "      <td>69.71</td>\n",
       "    </tr>\n",
       "    <tr>\n",
       "      <th>5</th>\n",
       "      <td>MG</td>\n",
       "      <td>358575</td>\n",
       "      <td>Sudeste</td>\n",
       "      <td>250015</td>\n",
       "      <td>134275</td>\n",
       "      <td>224300</td>\n",
       "      <td>93446</td>\n",
       "      <td>156569</td>\n",
       "      <td>69.72</td>\n",
       "    </tr>\n",
       "    <tr>\n",
       "      <th>6</th>\n",
       "      <td>SP</td>\n",
       "      <td>590767</td>\n",
       "      <td>Sudeste</td>\n",
       "      <td>409480</td>\n",
       "      <td>230992</td>\n",
       "      <td>359775</td>\n",
       "      <td>160510</td>\n",
       "      <td>248970</td>\n",
       "      <td>69.31</td>\n",
       "    </tr>\n",
       "    <tr>\n",
       "      <th>7</th>\n",
       "      <td>RN</td>\n",
       "      <td>100706</td>\n",
       "      <td>Nordeste</td>\n",
       "      <td>72805</td>\n",
       "      <td>41372</td>\n",
       "      <td>59334</td>\n",
       "      <td>29937</td>\n",
       "      <td>42868</td>\n",
       "      <td>72.29</td>\n",
       "    </tr>\n",
       "    <tr>\n",
       "      <th>8</th>\n",
       "      <td>PR</td>\n",
       "      <td>166506</td>\n",
       "      <td>Sul</td>\n",
       "      <td>114776</td>\n",
       "      <td>64841</td>\n",
       "      <td>101665</td>\n",
       "      <td>44414</td>\n",
       "      <td>70362</td>\n",
       "      <td>68.93</td>\n",
       "    </tr>\n",
       "    <tr>\n",
       "      <th>9</th>\n",
       "      <td>PA</td>\n",
       "      <td>229162</td>\n",
       "      <td>Norte</td>\n",
       "      <td>153293</td>\n",
       "      <td>86142</td>\n",
       "      <td>143020</td>\n",
       "      <td>57992</td>\n",
       "      <td>95301</td>\n",
       "      <td>66.89</td>\n",
       "    </tr>\n",
       "    <tr>\n",
       "      <th>10</th>\n",
       "      <td>MA</td>\n",
       "      <td>165756</td>\n",
       "      <td>Nordeste</td>\n",
       "      <td>112482</td>\n",
       "      <td>62585</td>\n",
       "      <td>103171</td>\n",
       "      <td>42313</td>\n",
       "      <td>70169</td>\n",
       "      <td>67.86</td>\n",
       "    </tr>\n",
       "    <tr>\n",
       "      <th>11</th>\n",
       "      <td>RJ</td>\n",
       "      <td>282296</td>\n",
       "      <td>Sudeste</td>\n",
       "      <td>184502</td>\n",
       "      <td>106824</td>\n",
       "      <td>175472</td>\n",
       "      <td>70773</td>\n",
       "      <td>113729</td>\n",
       "      <td>65.36</td>\n",
       "    </tr>\n",
       "    <tr>\n",
       "      <th>12</th>\n",
       "      <td>MT</td>\n",
       "      <td>63912</td>\n",
       "      <td>Centro-Oeste</td>\n",
       "      <td>41481</td>\n",
       "      <td>24390</td>\n",
       "      <td>39522</td>\n",
       "      <td>15588</td>\n",
       "      <td>25893</td>\n",
       "      <td>64.90</td>\n",
       "    </tr>\n",
       "    <tr>\n",
       "      <th>13</th>\n",
       "      <td>SE</td>\n",
       "      <td>65540</td>\n",
       "      <td>Nordeste</td>\n",
       "      <td>47189</td>\n",
       "      <td>25012</td>\n",
       "      <td>40528</td>\n",
       "      <td>17916</td>\n",
       "      <td>29273</td>\n",
       "      <td>72.00</td>\n",
       "    </tr>\n",
       "    <tr>\n",
       "      <th>14</th>\n",
       "      <td>ES</td>\n",
       "      <td>73724</td>\n",
       "      <td>Sudeste</td>\n",
       "      <td>49235</td>\n",
       "      <td>28560</td>\n",
       "      <td>45164</td>\n",
       "      <td>19106</td>\n",
       "      <td>30129</td>\n",
       "      <td>66.78</td>\n",
       "    </tr>\n",
       "    <tr>\n",
       "      <th>15</th>\n",
       "      <td>SC</td>\n",
       "      <td>91263</td>\n",
       "      <td>Sul</td>\n",
       "      <td>62700</td>\n",
       "      <td>34570</td>\n",
       "      <td>56693</td>\n",
       "      <td>23647</td>\n",
       "      <td>39053</td>\n",
       "      <td>68.70</td>\n",
       "    </tr>\n",
       "    <tr>\n",
       "      <th>16</th>\n",
       "      <td>AC</td>\n",
       "      <td>24274</td>\n",
       "      <td>Norte</td>\n",
       "      <td>15099</td>\n",
       "      <td>9528</td>\n",
       "      <td>14746</td>\n",
       "      <td>5892</td>\n",
       "      <td>9207</td>\n",
       "      <td>62.20</td>\n",
       "    </tr>\n",
       "    <tr>\n",
       "      <th>17</th>\n",
       "      <td>AM</td>\n",
       "      <td>92916</td>\n",
       "      <td>Norte</td>\n",
       "      <td>47909</td>\n",
       "      <td>38282</td>\n",
       "      <td>54634</td>\n",
       "      <td>19442</td>\n",
       "      <td>28467</td>\n",
       "      <td>51.56</td>\n",
       "    </tr>\n",
       "    <tr>\n",
       "      <th>18</th>\n",
       "      <td>TO</td>\n",
       "      <td>32618</td>\n",
       "      <td>Norte</td>\n",
       "      <td>21612</td>\n",
       "      <td>12154</td>\n",
       "      <td>20464</td>\n",
       "      <td>7827</td>\n",
       "      <td>13785</td>\n",
       "      <td>66.26</td>\n",
       "    </tr>\n",
       "    <tr>\n",
       "      <th>19</th>\n",
       "      <td>MS</td>\n",
       "      <td>47455</td>\n",
       "      <td>Centro-Oeste</td>\n",
       "      <td>31239</td>\n",
       "      <td>18427</td>\n",
       "      <td>29028</td>\n",
       "      <td>12116</td>\n",
       "      <td>19123</td>\n",
       "      <td>65.83</td>\n",
       "    </tr>\n",
       "    <tr>\n",
       "      <th>20</th>\n",
       "      <td>PI</td>\n",
       "      <td>99639</td>\n",
       "      <td>Nordeste</td>\n",
       "      <td>70761</td>\n",
       "      <td>38884</td>\n",
       "      <td>60755</td>\n",
       "      <td>27616</td>\n",
       "      <td>43145</td>\n",
       "      <td>71.02</td>\n",
       "    </tr>\n",
       "    <tr>\n",
       "      <th>21</th>\n",
       "      <td>AL</td>\n",
       "      <td>82760</td>\n",
       "      <td>Nordeste</td>\n",
       "      <td>54953</td>\n",
       "      <td>32326</td>\n",
       "      <td>50434</td>\n",
       "      <td>21320</td>\n",
       "      <td>33633</td>\n",
       "      <td>66.40</td>\n",
       "    </tr>\n",
       "    <tr>\n",
       "      <th>22</th>\n",
       "      <td>GO</td>\n",
       "      <td>149110</td>\n",
       "      <td>Centro-Oeste</td>\n",
       "      <td>96351</td>\n",
       "      <td>59590</td>\n",
       "      <td>89520</td>\n",
       "      <td>36977</td>\n",
       "      <td>59374</td>\n",
       "      <td>64.62</td>\n",
       "    </tr>\n",
       "    <tr>\n",
       "      <th>23</th>\n",
       "      <td>PB</td>\n",
       "      <td>124511</td>\n",
       "      <td>Nordeste</td>\n",
       "      <td>87603</td>\n",
       "      <td>50968</td>\n",
       "      <td>73543</td>\n",
       "      <td>35688</td>\n",
       "      <td>51915</td>\n",
       "      <td>70.36</td>\n",
       "    </tr>\n",
       "    <tr>\n",
       "      <th>24</th>\n",
       "      <td>AP</td>\n",
       "      <td>28807</td>\n",
       "      <td>Norte</td>\n",
       "      <td>18177</td>\n",
       "      <td>11814</td>\n",
       "      <td>16993</td>\n",
       "      <td>7581</td>\n",
       "      <td>10596</td>\n",
       "      <td>63.10</td>\n",
       "    </tr>\n",
       "    <tr>\n",
       "      <th>25</th>\n",
       "      <td>RO</td>\n",
       "      <td>36038</td>\n",
       "      <td>Norte</td>\n",
       "      <td>22999</td>\n",
       "      <td>13601</td>\n",
       "      <td>22437</td>\n",
       "      <td>8556</td>\n",
       "      <td>14443</td>\n",
       "      <td>63.82</td>\n",
       "    </tr>\n",
       "    <tr>\n",
       "      <th>26</th>\n",
       "      <td>RR</td>\n",
       "      <td>9639</td>\n",
       "      <td>Norte</td>\n",
       "      <td>6070</td>\n",
       "      <td>3562</td>\n",
       "      <td>6077</td>\n",
       "      <td>2227</td>\n",
       "      <td>3843</td>\n",
       "      <td>62.97</td>\n",
       "    </tr>\n",
       "  </tbody>\n",
       "</table>\n",
       "</div>"
      ],
      "text/plain": [
       "    UF  Total Inscritos        Regiao  Total Presentes  \\\n",
       "0   DF            72975  Centro-Oeste            50267   \n",
       "1   RS           159919           Sul           110735   \n",
       "2   CE           241960      Nordeste           173700   \n",
       "3   BA           324268      Nordeste           220257   \n",
       "4   PE           218859      Nordeste           152574   \n",
       "5   MG           358575       Sudeste           250015   \n",
       "6   SP           590767       Sudeste           409480   \n",
       "7   RN           100706      Nordeste            72805   \n",
       "8   PR           166506           Sul           114776   \n",
       "9   PA           229162         Norte           153293   \n",
       "10  MA           165756      Nordeste           112482   \n",
       "11  RJ           282296       Sudeste           184502   \n",
       "12  MT            63912  Centro-Oeste            41481   \n",
       "13  SE            65540      Nordeste            47189   \n",
       "14  ES            73724       Sudeste            49235   \n",
       "15  SC            91263           Sul            62700   \n",
       "16  AC            24274         Norte            15099   \n",
       "17  AM            92916         Norte            47909   \n",
       "18  TO            32618         Norte            21612   \n",
       "19  MS            47455  Centro-Oeste            31239   \n",
       "20  PI            99639      Nordeste            70761   \n",
       "21  AL            82760      Nordeste            54953   \n",
       "22  GO           149110  Centro-Oeste            96351   \n",
       "23  PB           124511      Nordeste            87603   \n",
       "24  AP            28807         Norte            18177   \n",
       "25  RO            36038         Norte            22999   \n",
       "26  RR             9639         Norte             6070   \n",
       "\n",
       "    Total Homens Inscritos  Total Mulheres Inscritas  Total Homens Presentes  \\\n",
       "0                    28782                     44193                   19719   \n",
       "1                    59692                    100227                   41633   \n",
       "2                   106239                    135721                   74852   \n",
       "3                   113310                    210958                   77583   \n",
       "4                    86048                    132811                   59547   \n",
       "5                   134275                    224300                   93446   \n",
       "6                   230992                    359775                  160510   \n",
       "7                    41372                     59334                   29937   \n",
       "8                    64841                    101665                   44414   \n",
       "9                    86142                    143020                   57992   \n",
       "10                   62585                    103171                   42313   \n",
       "11                  106824                    175472                   70773   \n",
       "12                   24390                     39522                   15588   \n",
       "13                   25012                     40528                   17916   \n",
       "14                   28560                     45164                   19106   \n",
       "15                   34570                     56693                   23647   \n",
       "16                    9528                     14746                    5892   \n",
       "17                   38282                     54634                   19442   \n",
       "18                   12154                     20464                    7827   \n",
       "19                   18427                     29028                   12116   \n",
       "20                   38884                     60755                   27616   \n",
       "21                   32326                     50434                   21320   \n",
       "22                   59590                     89520                   36977   \n",
       "23                   50968                     73543                   35688   \n",
       "24                   11814                     16993                    7581   \n",
       "25                   13601                     22437                    8556   \n",
       "26                    3562                      6077                    2227   \n",
       "\n",
       "    Total Mulheres Presentes  Percentual de Presentes  \n",
       "0                      30548                    68.88  \n",
       "1                      69102                    69.24  \n",
       "2                      98848                    71.79  \n",
       "3                     142674                    67.92  \n",
       "4                      93027                    69.71  \n",
       "5                     156569                    69.72  \n",
       "6                     248970                    69.31  \n",
       "7                      42868                    72.29  \n",
       "8                      70362                    68.93  \n",
       "9                      95301                    66.89  \n",
       "10                     70169                    67.86  \n",
       "11                    113729                    65.36  \n",
       "12                     25893                    64.90  \n",
       "13                     29273                    72.00  \n",
       "14                     30129                    66.78  \n",
       "15                     39053                    68.70  \n",
       "16                      9207                    62.20  \n",
       "17                     28467                    51.56  \n",
       "18                     13785                    66.26  \n",
       "19                     19123                    65.83  \n",
       "20                     43145                    71.02  \n",
       "21                     33633                    66.40  \n",
       "22                     59374                    64.62  \n",
       "23                     51915                    70.36  \n",
       "24                     10596                    63.10  \n",
       "25                     14443                    63.82  \n",
       "26                      3843                    62.97  "
      ]
     },
     "execution_count": 79,
     "metadata": {},
     "output_type": "execute_result"
    }
   ],
   "source": [
    "df_uf_region_full\n"
   ]
  }
 ],
 "metadata": {
  "kernelspec": {
   "display_name": "Python 3",
   "language": "python",
   "name": "python3"
  },
  "language_info": {
   "codemirror_mode": {
    "name": "ipython",
    "version": 3
   },
   "file_extension": ".py",
   "mimetype": "text/x-python",
   "name": "python",
   "nbconvert_exporter": "python",
   "pygments_lexer": "ipython3",
   "version": "3.12.4"
  }
 },
 "nbformat": 4,
 "nbformat_minor": 2
}
